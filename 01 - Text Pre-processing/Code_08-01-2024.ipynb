{
 "cells": [
  {
   "cell_type": "code",
   "execution_count": 2,
   "id": "5b2c3350",
   "metadata": {},
   "outputs": [],
   "source": [
    "import nltk\n",
    "import string\n",
    "import re"
   ]
  },
  {
   "cell_type": "code",
   "execution_count": 3,
   "id": "f4e0c446",
   "metadata": {},
   "outputs": [],
   "source": [
    "# Lowercasing\n",
    "\n",
    "def text_lowercase(text):\n",
    "    return text.lower()"
   ]
  },
  {
   "cell_type": "code",
   "execution_count": 4,
   "id": "a495dc50",
   "metadata": {},
   "outputs": [
    {
     "data": {
      "text/plain": [
       "'hey, did you know that the summer break is coming? amazing !'"
      ]
     },
     "execution_count": 4,
     "metadata": {},
     "output_type": "execute_result"
    }
   ],
   "source": [
    "input_text = \"Hey, did you know that the summer break is coming? Amazing !\"\n",
    "text_lowercase(input_text)"
   ]
  },
  {
   "cell_type": "code",
   "execution_count": 15,
   "id": "ee9e9bd2",
   "metadata": {},
   "outputs": [],
   "source": [
    "# Removing numbers\n",
    "\n",
    "def remove_numbers(text):\n",
    "    result = re.sub(r\"\\d+\", \"\", text)\n",
    "    return result"
   ]
  },
  {
   "cell_type": "code",
   "execution_count": 16,
   "id": "21483a69",
   "metadata": {},
   "outputs": [
    {
     "data": {
      "text/plain": [
       "'Her phone number is , and my phone number is .'"
      ]
     },
     "execution_count": 16,
     "metadata": {},
     "output_type": "execute_result"
    }
   ],
   "source": [
    "input_text = \"Her phone number is 012346789, and my phone number is 0987654321.\"\n",
    "remove_numbers(input_text)"
   ]
  },
  {
   "cell_type": "code",
   "execution_count": 17,
   "id": "7013f31e",
   "metadata": {},
   "outputs": [
    {
     "name": "stdout",
     "output_type": "stream",
     "text": [
      "['!', '\"', '#', '$', '%', '&', \"'\", '(', ')', '*', '+', ',', '-', '.', '/', ':', ';', '<', '=', '>', '?', '@', '[', '\\\\', ']', '^', '_', '`', '{', '|', '}', '~']\n"
     ]
    }
   ],
   "source": [
    "#Removing punctuation & special characters\n",
    "\n",
    "regular_punct = list(string.punctuation)\n",
    "print(regular_punct)"
   ]
  },
  {
   "cell_type": "code",
   "execution_count": 28,
   "id": "c7a1f15a",
   "metadata": {},
   "outputs": [
    {
     "data": {
      "text/plain": [
       "'Hey Lisa did you know that the summer break is coming  Amazing  Right'"
      ]
     },
     "execution_count": 28,
     "metadata": {},
     "output_type": "execute_result"
    }
   ],
   "source": [
    "def remove_punctuation(text,punct_list):\n",
    "    for punc in punct_list:\n",
    "        if punc in text:\n",
    "            text = text.replace(punc, \"\")\n",
    "    return text.strip()\n",
    "\n",
    "remove_punctuation(\"Hey @Lisa, did you know that the summer break is coming ? Amazing ! Right !\", regular_punct)"
   ]
  },
  {
   "cell_type": "code",
   "execution_count": 29,
   "id": "a9b6ff6f",
   "metadata": {},
   "outputs": [
    {
     "data": {
      "text/plain": [
       "\"we don't need the given questions.\""
      ]
     },
     "execution_count": 29,
     "metadata": {},
     "output_type": "execute_result"
    }
   ],
   "source": [
    "#Handling double whitespace from text\n",
    "\n",
    "def remove_whitespace(text):\n",
    "    return \" \".join(text.split())\n",
    "\n",
    "input_str = \"we  don't need the given  questions.\"\n",
    "remove_whitespace(input_str)"
   ]
  },
  {
   "cell_type": "code",
   "execution_count": 30,
   "id": "ea1c393b",
   "metadata": {},
   "outputs": [
    {
     "data": {
      "text/plain": [
       "'You can visit this'"
      ]
     },
     "execution_count": 30,
     "metadata": {},
     "output_type": "execute_result"
    }
   ],
   "source": [
    "# Removal of URLs, HTML tags or other irrelevant...\n",
    "\n",
    "# Define a regex pattern to match URLs\n",
    "url_pattern = re.compile(r\"https?://\\S+\")\n",
    "\n",
    "# Define a function to remove URLs from text\n",
    "def remove_urls(text):\n",
    "    return url_pattern.sub(\"this\", text) # we replace the URL with word \"this\"\n",
    "\n",
    "input_str = \"You can visit https://www.google.com/\"\n",
    "remove_urls(input_str)"
   ]
  },
  {
   "cell_type": "code",
   "execution_count": 31,
   "id": "a8e5f1ea",
   "metadata": {},
   "outputs": [
    {
     "name": "stderr",
     "output_type": "stream",
     "text": [
      "[nltk_data] Downloading package punkt to\n",
      "[nltk_data]     C:\\Users\\sebastien.gobbe\\AppData\\Roaming\\nltk_data...\n"
     ]
    },
    {
     "name": "stdout",
     "output_type": "stream",
     "text": [
      "Result from tokenization ['this', 'is', 'a', 'text', 'to', 'tokenize']\n"
     ]
    },
    {
     "name": "stderr",
     "output_type": "stream",
     "text": [
      "[nltk_data]   Unzipping tokenizers\\punkt.zip.\n"
     ]
    }
   ],
   "source": [
    "nltk.download(\"punkt\") # this line is needed to download the necessary data\n",
    "\n",
    "text = \"this is a text to tokenize\"\n",
    "tokenized = nltk.word_tokenize(text)\n",
    "\n",
    "print(\"Result from tokenization\",tokenized)"
   ]
  },
  {
   "cell_type": "code",
   "execution_count": 41,
   "id": "f8a18a04",
   "metadata": {},
   "outputs": [
    {
     "name": "stdout",
     "output_type": "stream",
     "text": [
      "{'their', 'not', 'about', \"it's\", 'should', 'before', \"won't\", 'having', 'wouldn', 'through', 'hasn', 'so', 'below', \"should've\", 've', 'isn', 'him', 'can', 'and', 'with', 'didn', \"wasn't\", 'themselves', 'had', 'your', 'he', 'of', 'yours', 'itself', 'then', 'if', \"you'd\", 'where', 'above', 'mustn', 's', 'in', 'once', 'but', 'this', 'will', 'whom', 'it', \"you're\", 'how', 'herself', 'her', 'is', 'she', 'as', 'on', 'weren', 'aren', 'doesn', 'has', 'after', 'being', \"needn't\", 'y', 'i', 'by', 'while', 'a', 'what', 'up', 'were', 'each', 'myself', 'all', 'couldn', 'why', 'further', 'them', 'these', 'which', 'hers', 'few', \"hasn't\", 'ain', 'who', 'be', 'for', 'just', 'against', 'm', 'such', 'hadn', \"mustn't\", 'from', 'most', 'more', 'ours', 'they', \"shan't\", 'own', 'into', 'other', 'between', 'when', 'theirs', 'because', \"couldn't\", 'the', \"doesn't\", 'been', 'same', 'nor', 'me', 'was', 'again', 'won', \"haven't\", 'or', 'any', 'shouldn', 're', \"didn't\", 'during', 'my', 'off', 'ourselves', \"don't\", 'does', 'both', 'am', 'we', \"wouldn't\", 'only', 'over', 'shan', 'are', 'haven', \"hadn't\", 'did', 'until', 'll', 'you', \"you've\", 'there', \"shouldn't\", 'wasn', 'yourself', 'no', \"aren't\", 'here', \"weren't\", 'needn', 'ma', 'd', \"that'll\", 'under', 't', 'too', \"she's\", 'yourselves', \"isn't\", \"you'll\", 'have', 'to', 'o', 'at', 'jambon', 'doing', 'than', 'don', 'an', \"mightn't\", 'mightn', 'do', 'now', 'those', 'that', 'very', 'its', 'down', 'our', 'himself', 'some', 'his', 'out'}\n"
     ]
    },
    {
     "name": "stderr",
     "output_type": "stream",
     "text": [
      "[nltk_data] Downloading package stopwords to\n",
      "[nltk_data]     C:\\Users\\sebastien.gobbe\\AppData\\Roaming\\nltk_data...\n",
      "[nltk_data]   Package stopwords is already up-to-date!\n"
     ]
    }
   ],
   "source": [
    "# Stop words removal\n",
    "from nltk.corpus import stopwords\n",
    "nltk.download(\"stopwords\")\n",
    "\n",
    "stop_words = set(stopwords.words(\"english\"))\n",
    "stop_words.add(\"jambon\")\n",
    "print(stop_words)"
   ]
  },
  {
   "cell_type": "code",
   "execution_count": 42,
   "id": "d97a65a1",
   "metadata": {},
   "outputs": [
    {
     "name": "stdout",
     "output_type": "stream",
     "text": [
      "Before removing stopwords : this is a sample sentence and we are going to remove the stopwords from this.\n",
      "After removing stopwords : ['sample', 'sentence', 'going', 'remove', 'stopwords', '.']\n"
     ]
    },
    {
     "name": "stderr",
     "output_type": "stream",
     "text": [
      "[nltk_data] Downloading package punkt to\n",
      "[nltk_data]     C:\\Users\\sebastien.gobbe\\AppData\\Roaming\\nltk_data...\n",
      "[nltk_data]   Package punkt is already up-to-date!\n",
      "[nltk_data] Downloading package stopwords to\n",
      "[nltk_data]     C:\\Users\\sebastien.gobbe\\AppData\\Roaming\\nltk_data...\n",
      "[nltk_data]   Package stopwords is already up-to-date!\n"
     ]
    }
   ],
   "source": [
    "import nltk\n",
    "from nltk.corpus import stopwords\n",
    "from nltk.tokenize import word_tokenize\n",
    "\n",
    "# Download the necessary NLTK datasets\n",
    "nltk.download(\"punkt\")\n",
    "nltk.download(\"stopwords\")\n",
    "\n",
    "# Removie stopwords function\n",
    "def remove_stopwords(text):\n",
    "    stop_words = set(stopwords.words(\"english\"))\n",
    "    word_tokens = word_tokenize(text)\n",
    "    \n",
    "    # filter out the stopwords\n",
    "    filtered_text = [word for word in word_tokens if word.lower() not in stop_words]\n",
    "    \n",
    "    return filtered_text\n",
    "\n",
    "example_text = \"this is a sample sentence and we are going to remove the stopwords from this.\"\n",
    "print(\"Before removing stopwords :\", example_text)\n",
    "print(\"After removing stopwords :\", remove_stopwords(example_text))"
   ]
  },
  {
   "cell_type": "code",
   "execution_count": 47,
   "id": "d5f06a0c",
   "metadata": {},
   "outputs": [
    {
     "data": {
      "text/plain": [
       "['data',\n",
       " 'scienc',\n",
       " 'use',\n",
       " 'scientif',\n",
       " 'method',\n",
       " 'algorithm',\n",
       " 'and',\n",
       " 'mani',\n",
       " 'type',\n",
       " 'of',\n",
       " 'process']"
      ]
     },
     "execution_count": 47,
     "metadata": {},
     "output_type": "execute_result"
    }
   ],
   "source": [
    "# Stemming\n",
    "\n",
    "from nltk.stem.porter import PorterStemmer\n",
    "from nltk.tokenize import word_tokenize\n",
    "stemmer = PorterStemmer()\n",
    "\n",
    "# stop words in the list of tokenized words\n",
    "def stem_words(text):\n",
    "    word_tokens = word_tokenize(text)\n",
    "    stems = [stemmer.stem(word) for word in word_tokens]\n",
    "    return stems\n",
    "\n",
    "text = \"data science uses scientific methods algorithms and many types of processes\"\n",
    "stem_words(text)"
   ]
  },
  {
   "cell_type": "code",
   "execution_count": 57,
   "id": "8c90afaa",
   "metadata": {},
   "outputs": [
    {
     "name": "stderr",
     "output_type": "stream",
     "text": [
      "[nltk_data] Downloading package punkt to\n",
      "[nltk_data]     C:\\Users\\sebastien.gobbe\\AppData\\Roaming\\nltk_data...\n",
      "[nltk_data]   Package punkt is already up-to-date!\n",
      "[nltk_data] Downloading package wordnet to\n",
      "[nltk_data]     C:\\Users\\sebastien.gobbe\\AppData\\Roaming\\nltk_data...\n",
      "[nltk_data]   Package wordnet is already up-to-date!\n"
     ]
    },
    {
     "data": {
      "text/plain": [
       "['data', 'science', 'is', 'a', 'popular', 'field']"
      ]
     },
     "execution_count": 57,
     "metadata": {},
     "output_type": "execute_result"
    }
   ],
   "source": [
    "# Lemma\n",
    "\n",
    "import nltk\n",
    "from nltk.tokenize import word_tokenize\n",
    "from nltk.stem import WordNetLemmatizer\n",
    "\n",
    "# Download the necessary NLTK datasets\n",
    "nltk.download(\"punkt\")\n",
    "nltk.download(\"wordnet\")\n",
    "\n",
    "# Initialize the WordNetLemmatizer\n",
    "lemmatizer = WordNetLemmatizer()\n",
    "\n",
    "# Function to lemmatize words in the list of tokenized words\n",
    "def lemma_words(text):\n",
    "    word_tokens = word_tokenize(text)\n",
    "    lemmas = [lemmatizer.lemmatize(word) for word in word_tokens]\n",
    "    return lemmas\n",
    "\n",
    "text = \"data science is a popular field\"\n",
    "lemma_words(text)"
   ]
  },
  {
   "cell_type": "code",
   "execution_count": null,
   "id": "3d073361",
   "metadata": {},
   "outputs": [],
   "source": []
  }
 ],
 "metadata": {
  "kernelspec": {
   "display_name": "Python 3 (ipykernel)",
   "language": "python",
   "name": "python3"
  },
  "language_info": {
   "codemirror_mode": {
    "name": "ipython",
    "version": 3
   },
   "file_extension": ".py",
   "mimetype": "text/x-python",
   "name": "python",
   "nbconvert_exporter": "python",
   "pygments_lexer": "ipython3",
   "version": "3.11.5"
  }
 },
 "nbformat": 4,
 "nbformat_minor": 5
}
