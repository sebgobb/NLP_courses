{
 "cells": [
  {
   "cell_type": "code",
   "execution_count": 1,
   "id": "7f6f63cc",
   "metadata": {},
   "outputs": [],
   "source": [
    "import re"
   ]
  },
  {
   "cell_type": "code",
   "execution_count": 3,
   "id": "13c5af0e",
   "metadata": {},
   "outputs": [],
   "source": [
    "# Define a simple pattern\n",
    "pattern = r\"\\d+\"\n",
    "\n",
    "# Create a regex object using re.compile()\n",
    "regex_object = re.compile(pattern)"
   ]
  },
  {
   "cell_type": "code",
   "execution_count": 13,
   "id": "aa34cbce",
   "metadata": {},
   "outputs": [
    {
     "name": "stdout",
     "output_type": "stream",
     "text": [
      "Pattern found : 123\n"
     ]
    }
   ],
   "source": [
    "# Sample text\n",
    "text = \"There are 123 mangos and 456 bananas\"\n",
    "\n",
    "# Using re.search() with the pre-compiled regex object\n",
    "match = regex_object.search(text)\n",
    "\n",
    "if match:\n",
    "    print(\"Pattern found :\", match.group())\n",
    "else:\n",
    "    print(\"Pattern not found\")"
   ]
  },
  {
   "cell_type": "code",
   "execution_count": 14,
   "id": "97c8fc9c",
   "metadata": {},
   "outputs": [
    {
     "name": "stdout",
     "output_type": "stream",
     "text": [
      "Pattern found : 36B\n"
     ]
    }
   ],
   "source": [
    "text2 = \"This is my adress : n°36B\"\n",
    "\n",
    "pattern2 = r\"\\d+.\"\n",
    "regex_object = re.compile(pattern2)\n",
    "\n",
    "match = regex_object.search(text2)\n",
    "\n",
    "if match:\n",
    "    print(\"Pattern found :\", match.group())\n",
    "else:\n",
    "    print(\"Pattern not found\")"
   ]
  },
  {
   "cell_type": "code",
   "execution_count": 37,
   "id": "ea1f08b3",
   "metadata": {},
   "outputs": [
    {
     "name": "stdout",
     "output_type": "stream",
     "text": [
      "Pattern found : ['370AB', '11C']\n"
     ]
    }
   ],
   "source": [
    "# Récupère les deux : 370AB et 11C\n",
    "text3 = f\"This is my adress : n°370AB\\nThis is my parents adress : n°11C\"\n",
    "\n",
    "pattern3 = r\"\\d+[A-Z]+\"\n",
    "regex_object = re.compile(pattern3)\n",
    "\n",
    "match = regex_object.findall(text3)\n",
    "\n",
    "if match:\n",
    "    print(\"Pattern found :\", match)\n",
    "else:\n",
    "    print(\"Pattern not found\")"
   ]
  },
  {
   "cell_type": "code",
   "execution_count": 38,
   "id": "e1c0fbb3",
   "metadata": {},
   "outputs": [
    {
     "name": "stdout",
     "output_type": "stream",
     "text": [
      "Pattern found : ['11C']\n"
     ]
    }
   ],
   "source": [
    "# Récupère uniquement le 11C\n",
    "\n",
    "text4 = f\"This is my adress : n°370AB\\nThis is my parents adress : n°11C\"\n",
    "\n",
    "pattern4 = r\"\\b\\d{2}[A-Z]+\\b\"\n",
    "regex_object = re.compile(pattern4)\n",
    "\n",
    "match = regex_object.findall(text4)\n",
    "\n",
    "if match:\n",
    "    print(\"Pattern found :\", match)\n",
    "else:\n",
    "    print(\"Pattern not found\")"
   ]
  },
  {
   "cell_type": "code",
   "execution_count": 48,
   "id": "9d7b60e1",
   "metadata": {},
   "outputs": [
    {
     "name": "stdout",
     "output_type": "stream",
     "text": [
      "Pattern found : ['alice@google.com', 'alice22@abc.com']\n"
     ]
    }
   ],
   "source": [
    "# Extraire les adresses email\n",
    "\n",
    "text5 = \"This is my personal email alice@google.com and this is my office email alice22@abc.com\"\n",
    "\n",
    "pattern5 = r\"[A-Za-z0-9]+@[A-Za-z0-9]+\\.[A-Za-z0-9]+\"\n",
    "regex_object = re.compile(pattern5)\n",
    "\n",
    "match = regex_object.findall(text5)\n",
    "\n",
    "if match:\n",
    "    print(\"Pattern found :\", match)\n",
    "else:\n",
    "    print(\"Pattern not found\")"
   ]
  },
  {
   "cell_type": "code",
   "execution_count": 63,
   "id": "aca2ae12",
   "metadata": {},
   "outputs": [
    {
     "name": "stdout",
     "output_type": "stream",
     "text": [
      "Pattern found : ['+234-123-456-7890', '+234 100 000 1000', '+2349999999999']\n"
     ]
    }
   ],
   "source": [
    "text6 = \"The following are the phone numbers of 3 students in a class. Michael : +234-123-456-7890, James : +234 100 000 1000, Sarah : +2349999999999\"\n",
    "\n",
    "pattern6 = r\"\\+[0-9\\s\\-]+\"\n",
    "regex_object = re.compile(pattern6)\n",
    "\n",
    "match = regex_object.findall(text6)\n",
    "\n",
    "if match:\n",
    "    print(\"Pattern found :\", match)\n",
    "else:\n",
    "    print(\"Pattern not found\")"
   ]
  },
  {
   "cell_type": "code",
   "execution_count": null,
   "id": "ec2004c2",
   "metadata": {},
   "outputs": [],
   "source": []
  }
 ],
 "metadata": {
  "kernelspec": {
   "display_name": "Python 3 (ipykernel)",
   "language": "python",
   "name": "python3"
  },
  "language_info": {
   "codemirror_mode": {
    "name": "ipython",
    "version": 3
   },
   "file_extension": ".py",
   "mimetype": "text/x-python",
   "name": "python",
   "nbconvert_exporter": "python",
   "pygments_lexer": "ipython3",
   "version": "3.11.5"
  }
 },
 "nbformat": 4,
 "nbformat_minor": 5
}
